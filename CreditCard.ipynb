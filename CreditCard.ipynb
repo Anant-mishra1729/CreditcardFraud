{
 "cells": [
  {
   "cell_type": "code",
   "execution_count": 1,
   "metadata": {},
   "outputs": [
    {
     "data": {
      "text/html": [
       "<div>\n",
       "<style scoped>\n",
       "    .dataframe tbody tr th:only-of-type {\n",
       "        vertical-align: middle;\n",
       "    }\n",
       "\n",
       "    .dataframe tbody tr th {\n",
       "        vertical-align: top;\n",
       "    }\n",
       "\n",
       "    .dataframe thead th {\n",
       "        text-align: right;\n",
       "    }\n",
       "</style>\n",
       "<table border=\"1\" class=\"dataframe\">\n",
       "  <thead>\n",
       "    <tr style=\"text-align: right;\">\n",
       "      <th></th>\n",
       "      <th>Time</th>\n",
       "      <th>V1</th>\n",
       "      <th>V2</th>\n",
       "      <th>V3</th>\n",
       "      <th>V4</th>\n",
       "      <th>V5</th>\n",
       "      <th>V6</th>\n",
       "      <th>V7</th>\n",
       "      <th>V8</th>\n",
       "      <th>V9</th>\n",
       "      <th>...</th>\n",
       "      <th>V21</th>\n",
       "      <th>V22</th>\n",
       "      <th>V23</th>\n",
       "      <th>V24</th>\n",
       "      <th>V25</th>\n",
       "      <th>V26</th>\n",
       "      <th>V27</th>\n",
       "      <th>V28</th>\n",
       "      <th>Amount</th>\n",
       "      <th>Class</th>\n",
       "    </tr>\n",
       "  </thead>\n",
       "  <tbody>\n",
       "    <tr>\n",
       "      <th>0</th>\n",
       "      <td>0</td>\n",
       "      <td>-1.359807</td>\n",
       "      <td>-0.072781</td>\n",
       "      <td>2.536347</td>\n",
       "      <td>1.378155</td>\n",
       "      <td>-0.338321</td>\n",
       "      <td>0.462388</td>\n",
       "      <td>0.239599</td>\n",
       "      <td>0.098698</td>\n",
       "      <td>0.363787</td>\n",
       "      <td>...</td>\n",
       "      <td>-0.018307</td>\n",
       "      <td>0.277838</td>\n",
       "      <td>-0.110474</td>\n",
       "      <td>0.066928</td>\n",
       "      <td>0.128539</td>\n",
       "      <td>-0.189115</td>\n",
       "      <td>0.133558</td>\n",
       "      <td>-0.021053</td>\n",
       "      <td>149.62</td>\n",
       "      <td>0</td>\n",
       "    </tr>\n",
       "    <tr>\n",
       "      <th>1</th>\n",
       "      <td>0</td>\n",
       "      <td>1.191857</td>\n",
       "      <td>0.266151</td>\n",
       "      <td>0.166480</td>\n",
       "      <td>0.448154</td>\n",
       "      <td>0.060018</td>\n",
       "      <td>-0.082361</td>\n",
       "      <td>-0.078803</td>\n",
       "      <td>0.085102</td>\n",
       "      <td>-0.255425</td>\n",
       "      <td>...</td>\n",
       "      <td>-0.225775</td>\n",
       "      <td>-0.638672</td>\n",
       "      <td>0.101288</td>\n",
       "      <td>-0.339846</td>\n",
       "      <td>0.167170</td>\n",
       "      <td>0.125895</td>\n",
       "      <td>-0.008983</td>\n",
       "      <td>0.014724</td>\n",
       "      <td>2.69</td>\n",
       "      <td>1</td>\n",
       "    </tr>\n",
       "    <tr>\n",
       "      <th>2</th>\n",
       "      <td>1</td>\n",
       "      <td>-1.358354</td>\n",
       "      <td>-1.340163</td>\n",
       "      <td>1.773209</td>\n",
       "      <td>0.379780</td>\n",
       "      <td>-0.503198</td>\n",
       "      <td>1.800499</td>\n",
       "      <td>0.791461</td>\n",
       "      <td>0.247676</td>\n",
       "      <td>-1.514654</td>\n",
       "      <td>...</td>\n",
       "      <td>0.247998</td>\n",
       "      <td>0.771679</td>\n",
       "      <td>0.909412</td>\n",
       "      <td>-0.689281</td>\n",
       "      <td>-0.327642</td>\n",
       "      <td>-0.139097</td>\n",
       "      <td>-0.055353</td>\n",
       "      <td>-0.059752</td>\n",
       "      <td>378.66</td>\n",
       "      <td>0</td>\n",
       "    </tr>\n",
       "    <tr>\n",
       "      <th>3</th>\n",
       "      <td>1</td>\n",
       "      <td>-0.966272</td>\n",
       "      <td>-0.185226</td>\n",
       "      <td>1.792993</td>\n",
       "      <td>-0.863291</td>\n",
       "      <td>-0.010309</td>\n",
       "      <td>1.247203</td>\n",
       "      <td>0.237609</td>\n",
       "      <td>0.377436</td>\n",
       "      <td>-1.387024</td>\n",
       "      <td>...</td>\n",
       "      <td>-0.108300</td>\n",
       "      <td>0.005274</td>\n",
       "      <td>-0.190321</td>\n",
       "      <td>-1.175575</td>\n",
       "      <td>0.647376</td>\n",
       "      <td>-0.221929</td>\n",
       "      <td>0.062723</td>\n",
       "      <td>0.061458</td>\n",
       "      <td>123.50</td>\n",
       "      <td>0</td>\n",
       "    </tr>\n",
       "    <tr>\n",
       "      <th>4</th>\n",
       "      <td>2</td>\n",
       "      <td>-1.158233</td>\n",
       "      <td>0.877737</td>\n",
       "      <td>1.548718</td>\n",
       "      <td>0.403034</td>\n",
       "      <td>-0.407193</td>\n",
       "      <td>0.095921</td>\n",
       "      <td>0.592941</td>\n",
       "      <td>-0.270533</td>\n",
       "      <td>0.817739</td>\n",
       "      <td>...</td>\n",
       "      <td>-0.009431</td>\n",
       "      <td>0.798278</td>\n",
       "      <td>-0.137458</td>\n",
       "      <td>0.141267</td>\n",
       "      <td>-0.206010</td>\n",
       "      <td>0.502292</td>\n",
       "      <td>0.219422</td>\n",
       "      <td>0.215153</td>\n",
       "      <td>69.99</td>\n",
       "      <td>0</td>\n",
       "    </tr>\n",
       "  </tbody>\n",
       "</table>\n",
       "<p>5 rows × 31 columns</p>\n",
       "</div>"
      ],
      "text/plain": [
       "   Time        V1        V2        V3        V4        V5        V6        V7  \\\n",
       "0     0 -1.359807 -0.072781  2.536347  1.378155 -0.338321  0.462388  0.239599   \n",
       "1     0  1.191857  0.266151  0.166480  0.448154  0.060018 -0.082361 -0.078803   \n",
       "2     1 -1.358354 -1.340163  1.773209  0.379780 -0.503198  1.800499  0.791461   \n",
       "3     1 -0.966272 -0.185226  1.792993 -0.863291 -0.010309  1.247203  0.237609   \n",
       "4     2 -1.158233  0.877737  1.548718  0.403034 -0.407193  0.095921  0.592941   \n",
       "\n",
       "         V8        V9  ...       V21       V22       V23       V24       V25  \\\n",
       "0  0.098698  0.363787  ... -0.018307  0.277838 -0.110474  0.066928  0.128539   \n",
       "1  0.085102 -0.255425  ... -0.225775 -0.638672  0.101288 -0.339846  0.167170   \n",
       "2  0.247676 -1.514654  ...  0.247998  0.771679  0.909412 -0.689281 -0.327642   \n",
       "3  0.377436 -1.387024  ... -0.108300  0.005274 -0.190321 -1.175575  0.647376   \n",
       "4 -0.270533  0.817739  ... -0.009431  0.798278 -0.137458  0.141267 -0.206010   \n",
       "\n",
       "        V26       V27       V28  Amount  Class  \n",
       "0 -0.189115  0.133558 -0.021053  149.62      0  \n",
       "1  0.125895 -0.008983  0.014724    2.69      1  \n",
       "2 -0.139097 -0.055353 -0.059752  378.66      0  \n",
       "3 -0.221929  0.062723  0.061458  123.50      0  \n",
       "4  0.502292  0.219422  0.215153   69.99      0  \n",
       "\n",
       "[5 rows x 31 columns]"
      ]
     },
     "execution_count": 1,
     "metadata": {},
     "output_type": "execute_result"
    }
   ],
   "source": [
    "import pandas as pd\n",
    "data = pd.read_csv(\"Creditcard_data.csv\")\n",
    "data.head()"
   ]
  },
  {
   "cell_type": "code",
   "execution_count": 2,
   "metadata": {},
   "outputs": [
    {
     "data": {
      "text/plain": [
       "[Text(0, 0, '763'), Text(0, 0, '9')]"
      ]
     },
     "execution_count": 2,
     "metadata": {},
     "output_type": "execute_result"
    },
    {
     "data": {
      "image/png": "[encoded data removed]",
      "text/plain": [
       "<Figure size 640x480 with 1 Axes>"
      ]
     },
     "metadata": {},
     "output_type": "display_data"
    }
   ],
   "source": [
    "# Plot class distribution show the number of fraud and non-fraud transactions\n",
    "import matplotlib.pyplot as plt\n",
    "import seaborn as sns\n",
    "ax = sns.countplot(x='Class', data=data)\n",
    "ax.set_title('Class Distribution')\n",
    "ax.set_xticklabels(['Non-Fraud', 'Fraud'])\n",
    "ax.bar_label(ax.containers[0])"
   ]
  },
  {
   "attachments": {},
   "cell_type": "markdown",
   "metadata": {},
   "source": [
    "##### Using class imbalance techniques"
   ]
  },
  {
   "attachments": {},
   "cell_type": "markdown",
   "metadata": {},
   "source": [
    "* Resampling the data"
   ]
  },
  {
   "cell_type": "code",
   "execution_count": 3,
   "metadata": {},
   "outputs": [
    {
     "name": "stdout",
     "output_type": "stream",
     "text": [
      "Non-Fraud Transactions:  763\n",
      "Fraud Transactions:  9\n"
     ]
    }
   ],
   "source": [
    "class_0 = data[data['Class'] == 0]\n",
    "class_1 = data[data['Class'] == 1]\n",
    "print('Non-Fraud Transactions: ', class_0.shape[0])\n",
    "print('Fraud Transactions: ', class_1.shape[0])"
   ]
  },
  {
   "cell_type": "code",
   "execution_count": 4,
   "metadata": {},
   "outputs": [
    {
     "name": "stdout",
     "output_type": "stream",
     "text": [
      "Non-Fraud Transactions:  9\n",
      "Fraud Transactions:  9\n"
     ]
    }
   ],
   "source": [
    "# Undersample the data\n",
    "# Randomly select the same number of non-fraud transactions as fraud transactions\n",
    "class_0_under = class_0.sample(class_1.shape[0])\n",
    "data_under = pd.concat([class_0_under, class_1], axis=0)\n",
    "print('Non-Fraud Transactions: ', data_under[data_under['Class'] == 0].shape[0])\n",
    "print('Fraud Transactions: ', data_under[data_under['Class'] == 1].shape[0])"
   ]
  },
  {
   "cell_type": "code",
   "execution_count": 5,
   "metadata": {},
   "outputs": [
    {
     "data": {
      "text/html": [
       "<div>\n",
       "<style scoped>\n",
       "    .dataframe tbody tr th:only-of-type {\n",
       "        vertical-align: middle;\n",
       "    }\n",
       "\n",
       "    .dataframe tbody tr th {\n",
       "        vertical-align: top;\n",
       "    }\n",
       "\n",
       "    .dataframe thead th {\n",
       "        text-align: right;\n",
       "    }\n",
       "</style>\n",
       "<table border=\"1\" class=\"dataframe\">\n",
       "  <thead>\n",
       "    <tr style=\"text-align: right;\">\n",
       "      <th></th>\n",
       "      <th>Time</th>\n",
       "      <th>V1</th>\n",
       "      <th>V2</th>\n",
       "      <th>V3</th>\n",
       "      <th>V4</th>\n",
       "      <th>V5</th>\n",
       "      <th>V6</th>\n",
       "      <th>V7</th>\n",
       "      <th>V8</th>\n",
       "      <th>V9</th>\n",
       "      <th>...</th>\n",
       "      <th>V21</th>\n",
       "      <th>V22</th>\n",
       "      <th>V23</th>\n",
       "      <th>V24</th>\n",
       "      <th>V25</th>\n",
       "      <th>V26</th>\n",
       "      <th>V27</th>\n",
       "      <th>V28</th>\n",
       "      <th>Amount</th>\n",
       "      <th>Class</th>\n",
       "    </tr>\n",
       "  </thead>\n",
       "  <tbody>\n",
       "    <tr>\n",
       "      <th>352</th>\n",
       "      <td>259</td>\n",
       "      <td>-0.363608</td>\n",
       "      <td>1.104008</td>\n",
       "      <td>1.300678</td>\n",
       "      <td>0.070314</td>\n",
       "      <td>0.075180</td>\n",
       "      <td>-1.010396</td>\n",
       "      <td>0.683396</td>\n",
       "      <td>-0.073378</td>\n",
       "      <td>-0.401866</td>\n",
       "      <td>...</td>\n",
       "      <td>-0.261158</td>\n",
       "      <td>-0.685436</td>\n",
       "      <td>-0.013662</td>\n",
       "      <td>0.336313</td>\n",
       "      <td>-0.157577</td>\n",
       "      <td>0.071699</td>\n",
       "      <td>0.245539</td>\n",
       "      <td>0.099037</td>\n",
       "      <td>0.99</td>\n",
       "      <td>0</td>\n",
       "    </tr>\n",
       "    <tr>\n",
       "      <th>127</th>\n",
       "      <td>80</td>\n",
       "      <td>-0.655264</td>\n",
       "      <td>0.409899</td>\n",
       "      <td>1.289156</td>\n",
       "      <td>-0.325043</td>\n",
       "      <td>0.545669</td>\n",
       "      <td>-0.349811</td>\n",
       "      <td>0.648240</td>\n",
       "      <td>0.036063</td>\n",
       "      <td>0.078701</td>\n",
       "      <td>...</td>\n",
       "      <td>-0.155727</td>\n",
       "      <td>-0.477390</td>\n",
       "      <td>-0.126525</td>\n",
       "      <td>-0.443628</td>\n",
       "      <td>-0.012118</td>\n",
       "      <td>0.143173</td>\n",
       "      <td>0.049783</td>\n",
       "      <td>0.118280</td>\n",
       "      <td>32.51</td>\n",
       "      <td>0</td>\n",
       "    </tr>\n",
       "    <tr>\n",
       "      <th>409</th>\n",
       "      <td>297</td>\n",
       "      <td>1.168460</td>\n",
       "      <td>0.284169</td>\n",
       "      <td>0.427985</td>\n",
       "      <td>1.382027</td>\n",
       "      <td>-0.057586</td>\n",
       "      <td>-0.157170</td>\n",
       "      <td>0.132989</td>\n",
       "      <td>-0.070709</td>\n",
       "      <td>0.141838</td>\n",
       "      <td>...</td>\n",
       "      <td>-0.091412</td>\n",
       "      <td>0.025132</td>\n",
       "      <td>-0.072434</td>\n",
       "      <td>0.121771</td>\n",
       "      <td>0.697131</td>\n",
       "      <td>-0.315949</td>\n",
       "      <td>0.046610</td>\n",
       "      <td>0.017891</td>\n",
       "      <td>6.86</td>\n",
       "      <td>0</td>\n",
       "    </tr>\n",
       "    <tr>\n",
       "      <th>42</th>\n",
       "      <td>33</td>\n",
       "      <td>-0.607877</td>\n",
       "      <td>1.031345</td>\n",
       "      <td>1.740450</td>\n",
       "      <td>1.232106</td>\n",
       "      <td>0.418592</td>\n",
       "      <td>0.119168</td>\n",
       "      <td>0.850893</td>\n",
       "      <td>-0.176267</td>\n",
       "      <td>-0.243501</td>\n",
       "      <td>...</td>\n",
       "      <td>-0.087329</td>\n",
       "      <td>0.258315</td>\n",
       "      <td>-0.264775</td>\n",
       "      <td>0.118282</td>\n",
       "      <td>0.173508</td>\n",
       "      <td>-0.217041</td>\n",
       "      <td>0.094312</td>\n",
       "      <td>-0.033041</td>\n",
       "      <td>14.80</td>\n",
       "      <td>0</td>\n",
       "    </tr>\n",
       "    <tr>\n",
       "      <th>478</th>\n",
       "      <td>353</td>\n",
       "      <td>0.150999</td>\n",
       "      <td>-3.002120</td>\n",
       "      <td>0.824301</td>\n",
       "      <td>0.231721</td>\n",
       "      <td>-2.621415</td>\n",
       "      <td>0.128843</td>\n",
       "      <td>-0.755233</td>\n",
       "      <td>0.095956</td>\n",
       "      <td>0.638219</td>\n",
       "      <td>...</td>\n",
       "      <td>0.521719</td>\n",
       "      <td>0.320297</td>\n",
       "      <td>-0.591253</td>\n",
       "      <td>0.447557</td>\n",
       "      <td>0.164080</td>\n",
       "      <td>-0.131897</td>\n",
       "      <td>-0.047547</td>\n",
       "      <td>0.130266</td>\n",
       "      <td>611.76</td>\n",
       "      <td>0</td>\n",
       "    </tr>\n",
       "  </tbody>\n",
       "</table>\n",
       "<p>5 rows × 31 columns</p>\n",
       "</div>"
      ],
      "text/plain": [
       "     Time        V1        V2        V3        V4        V5        V6  \\\n",
       "352   259 -0.363608  1.104008  1.300678  0.070314  0.075180 -1.010396   \n",
       "127    80 -0.655264  0.409899  1.289156 -0.325043  0.545669 -0.349811   \n",
       "409   297  1.168460  0.284169  0.427985  1.382027 -0.057586 -0.157170   \n",
       "42     33 -0.607877  1.031345  1.740450  1.232106  0.418592  0.119168   \n",
       "478   353  0.150999 -3.002120  0.824301  0.231721 -2.621415  0.128843   \n",
       "\n",
       "           V7        V8        V9  ...       V21       V22       V23  \\\n",
       "352  0.683396 -0.073378 -0.401866  ... -0.261158 -0.685436 -0.013662   \n",
       "127  0.648240  0.036063  0.078701  ... -0.155727 -0.477390 -0.126525   \n",
       "409  0.132989 -0.070709  0.141838  ... -0.091412  0.025132 -0.072434   \n",
       "42   0.850893 -0.176267 -0.243501  ... -0.087329  0.258315 -0.264775   \n",
       "478 -0.755233  0.095956  0.638219  ...  0.521719  0.320297 -0.591253   \n",
       "\n",
       "          V24       V25       V26       V27       V28  Amount  Class  \n",
       "352  0.336313 -0.157577  0.071699  0.245539  0.099037    0.99      0  \n",
       "127 -0.443628 -0.012118  0.143173  0.049783  0.118280   32.51      0  \n",
       "409  0.121771  0.697131 -0.315949  0.046610  0.017891    6.86      0  \n",
       "42   0.118282  0.173508 -0.217041  0.094312 -0.033041   14.80      0  \n",
       "478  0.447557  0.164080 -0.131897 -0.047547  0.130266  611.76      0  \n",
       "\n",
       "[5 rows x 31 columns]"
      ]
     },
     "execution_count": 5,
     "metadata": {},
     "output_type": "execute_result"
    }
   ],
   "source": [
    "data_under.head()"
   ]
  },
  {
   "cell_type": "code",
   "execution_count": 6,
   "metadata": {},
   "outputs": [
    {
     "data": {
      "text/plain": [
       "[Text(0, 0, '9'), Text(0, 0, '9')]"
      ]
     },
     "execution_count": 6,
     "metadata": {},
     "output_type": "execute_result"
    },
    {
     "data": {
      "image/png": "[encoded data removed]",
      "text/plain": [
       "<Figure size 640x480 with 1 Axes>"
      ]
     },
     "metadata": {},
     "output_type": "display_data"
    }
   ],
   "source": [
    "ax = sns.countplot(x = data_under['Class'])\n",
    "ax.set_title('Class Distribution')\n",
    "ax.set_xticklabels(['Non-Fraud', 'Fraud'])\n",
    "ax.bar_label(ax.containers[0])"
   ]
  },
  {
   "cell_type": "code",
   "execution_count": 7,
   "metadata": {},
   "outputs": [
    {
     "data": {
      "text/html": [
       "<div>\n",
       "<style scoped>\n",
       "    .dataframe tbody tr th:only-of-type {\n",
       "        vertical-align: middle;\n",
       "    }\n",
       "\n",
       "    .dataframe tbody tr th {\n",
       "        vertical-align: top;\n",
       "    }\n",
       "\n",
       "    .dataframe thead th {\n",
       "        text-align: right;\n",
       "    }\n",
       "</style>\n",
       "<table border=\"1\" class=\"dataframe\">\n",
       "  <thead>\n",
       "    <tr style=\"text-align: right;\">\n",
       "      <th></th>\n",
       "      <th>Time</th>\n",
       "      <th>V1</th>\n",
       "      <th>V2</th>\n",
       "      <th>V3</th>\n",
       "      <th>V4</th>\n",
       "      <th>V5</th>\n",
       "      <th>V6</th>\n",
       "      <th>V7</th>\n",
       "      <th>V8</th>\n",
       "      <th>V9</th>\n",
       "      <th>...</th>\n",
       "      <th>V21</th>\n",
       "      <th>V22</th>\n",
       "      <th>V23</th>\n",
       "      <th>V24</th>\n",
       "      <th>V25</th>\n",
       "      <th>V26</th>\n",
       "      <th>V27</th>\n",
       "      <th>V28</th>\n",
       "      <th>Amount</th>\n",
       "      <th>Class</th>\n",
       "    </tr>\n",
       "  </thead>\n",
       "  <tbody>\n",
       "    <tr>\n",
       "      <th>0</th>\n",
       "      <td>0</td>\n",
       "      <td>-1.359807</td>\n",
       "      <td>-0.072781</td>\n",
       "      <td>2.536347</td>\n",
       "      <td>1.378155</td>\n",
       "      <td>-0.338321</td>\n",
       "      <td>0.462388</td>\n",
       "      <td>0.239599</td>\n",
       "      <td>0.098698</td>\n",
       "      <td>0.363787</td>\n",
       "      <td>...</td>\n",
       "      <td>-0.018307</td>\n",
       "      <td>0.277838</td>\n",
       "      <td>-0.110474</td>\n",
       "      <td>0.066928</td>\n",
       "      <td>0.128539</td>\n",
       "      <td>-0.189115</td>\n",
       "      <td>0.133558</td>\n",
       "      <td>-0.021053</td>\n",
       "      <td>149.62</td>\n",
       "      <td>0</td>\n",
       "    </tr>\n",
       "    <tr>\n",
       "      <th>2</th>\n",
       "      <td>1</td>\n",
       "      <td>-1.358354</td>\n",
       "      <td>-1.340163</td>\n",
       "      <td>1.773209</td>\n",
       "      <td>0.379780</td>\n",
       "      <td>-0.503198</td>\n",
       "      <td>1.800499</td>\n",
       "      <td>0.791461</td>\n",
       "      <td>0.247676</td>\n",
       "      <td>-1.514654</td>\n",
       "      <td>...</td>\n",
       "      <td>0.247998</td>\n",
       "      <td>0.771679</td>\n",
       "      <td>0.909412</td>\n",
       "      <td>-0.689281</td>\n",
       "      <td>-0.327642</td>\n",
       "      <td>-0.139097</td>\n",
       "      <td>-0.055353</td>\n",
       "      <td>-0.059752</td>\n",
       "      <td>378.66</td>\n",
       "      <td>0</td>\n",
       "    </tr>\n",
       "    <tr>\n",
       "      <th>3</th>\n",
       "      <td>1</td>\n",
       "      <td>-0.966272</td>\n",
       "      <td>-0.185226</td>\n",
       "      <td>1.792993</td>\n",
       "      <td>-0.863291</td>\n",
       "      <td>-0.010309</td>\n",
       "      <td>1.247203</td>\n",
       "      <td>0.237609</td>\n",
       "      <td>0.377436</td>\n",
       "      <td>-1.387024</td>\n",
       "      <td>...</td>\n",
       "      <td>-0.108300</td>\n",
       "      <td>0.005274</td>\n",
       "      <td>-0.190321</td>\n",
       "      <td>-1.175575</td>\n",
       "      <td>0.647376</td>\n",
       "      <td>-0.221929</td>\n",
       "      <td>0.062723</td>\n",
       "      <td>0.061458</td>\n",
       "      <td>123.50</td>\n",
       "      <td>0</td>\n",
       "    </tr>\n",
       "    <tr>\n",
       "      <th>4</th>\n",
       "      <td>2</td>\n",
       "      <td>-1.158233</td>\n",
       "      <td>0.877737</td>\n",
       "      <td>1.548718</td>\n",
       "      <td>0.403034</td>\n",
       "      <td>-0.407193</td>\n",
       "      <td>0.095921</td>\n",
       "      <td>0.592941</td>\n",
       "      <td>-0.270533</td>\n",
       "      <td>0.817739</td>\n",
       "      <td>...</td>\n",
       "      <td>-0.009431</td>\n",
       "      <td>0.798278</td>\n",
       "      <td>-0.137458</td>\n",
       "      <td>0.141267</td>\n",
       "      <td>-0.206010</td>\n",
       "      <td>0.502292</td>\n",
       "      <td>0.219422</td>\n",
       "      <td>0.215153</td>\n",
       "      <td>69.99</td>\n",
       "      <td>0</td>\n",
       "    </tr>\n",
       "    <tr>\n",
       "      <th>5</th>\n",
       "      <td>2</td>\n",
       "      <td>-0.425966</td>\n",
       "      <td>0.960523</td>\n",
       "      <td>1.141109</td>\n",
       "      <td>-0.168252</td>\n",
       "      <td>0.420987</td>\n",
       "      <td>-0.029728</td>\n",
       "      <td>0.476201</td>\n",
       "      <td>0.260314</td>\n",
       "      <td>-0.568671</td>\n",
       "      <td>...</td>\n",
       "      <td>-0.208254</td>\n",
       "      <td>-0.559825</td>\n",
       "      <td>-0.026398</td>\n",
       "      <td>-0.371427</td>\n",
       "      <td>-0.232794</td>\n",
       "      <td>0.105915</td>\n",
       "      <td>0.253844</td>\n",
       "      <td>0.081080</td>\n",
       "      <td>3.67</td>\n",
       "      <td>0</td>\n",
       "    </tr>\n",
       "  </tbody>\n",
       "</table>\n",
       "<p>5 rows × 31 columns</p>\n",
       "</div>"
      ],
      "text/plain": [
       "   Time        V1        V2        V3        V4        V5        V6        V7  \\\n",
       "0     0 -1.359807 -0.072781  2.536347  1.378155 -0.338321  0.462388  0.239599   \n",
       "2     1 -1.358354 -1.340163  1.773209  0.379780 -0.503198  1.800499  0.791461   \n",
       "3     1 -0.966272 -0.185226  1.792993 -0.863291 -0.010309  1.247203  0.237609   \n",
       "4     2 -1.158233  0.877737  1.548718  0.403034 -0.407193  0.095921  0.592941   \n",
       "5     2 -0.425966  0.960523  1.141109 -0.168252  0.420987 -0.029728  0.476201   \n",
       "\n",
       "         V8        V9  ...       V21       V22       V23       V24       V25  \\\n",
       "0  0.098698  0.363787  ... -0.018307  0.277838 -0.110474  0.066928  0.128539   \n",
       "2  0.247676 -1.514654  ...  0.247998  0.771679  0.909412 -0.689281 -0.327642   \n",
       "3  0.377436 -1.387024  ... -0.108300  0.005274 -0.190321 -1.175575  0.647376   \n",
       "4 -0.270533  0.817739  ... -0.009431  0.798278 -0.137458  0.141267 -0.206010   \n",
       "5  0.260314 -0.568671  ... -0.208254 -0.559825 -0.026398 -0.371427 -0.232794   \n",
       "\n",
       "        V26       V27       V28  Amount  Class  \n",
       "0 -0.189115  0.133558 -0.021053  149.62      0  \n",
       "2 -0.139097 -0.055353 -0.059752  378.66      0  \n",
       "3 -0.221929  0.062723  0.061458  123.50      0  \n",
       "4  0.502292  0.219422  0.215153   69.99      0  \n",
       "5  0.105915  0.253844  0.081080    3.67      0  \n",
       "\n",
       "[5 rows x 31 columns]"
      ]
     },
     "execution_count": 7,
     "metadata": {},
     "output_type": "execute_result"
    }
   ],
   "source": [
    "# Oversampling\n",
    "class_1_over = class_1.sample(class_0.shape[0], replace= True)\n",
    "data_over = pd.concat([class_0, class_1_over], axis= 0)\n",
    "data_over.head()"
   ]
  },
  {
   "cell_type": "code",
   "execution_count": 8,
   "metadata": {},
   "outputs": [
    {
     "data": {
      "text/plain": [
       "[Text(0, 0, '763'), Text(0, 0, '763')]"
      ]
     },
     "execution_count": 8,
     "metadata": {},
     "output_type": "execute_result"
    },
    {
     "data": {
      "image/png": "[encoded data removed]",
      "text/plain": [
       "<Figure size 640x480 with 1 Axes>"
      ]
     },
     "metadata": {},
     "output_type": "display_data"
    }
   ],
   "source": [
    "ax = sns.countplot(x = data_over['Class'])\n",
    "ax.set_title('Class Distribution')\n",
    "ax.set_xticklabels(['Non-Fraud', 'Fraud'])\n",
    "ax.bar_label(ax.containers[0])"
   ]
  },
  {
   "attachments": {},
   "cell_type": "markdown",
   "metadata": {},
   "source": [
    "## Using Imblearn"
   ]
  },
  {
   "attachments": {},
   "cell_type": "markdown",
   "metadata": {},
   "source": [
    "#### Random Under Sampling and Over Sampling"
   ]
  },
  {
   "cell_type": "code",
   "execution_count": 9,
   "metadata": {},
   "outputs": [],
   "source": [
    "from imblearn.under_sampling import RandomUnderSampler\n",
    "from imblearn.over_sampling import RandomOverSampler\n",
    "rus = RandomUnderSampler(random_state = 42, replacement = True)\n",
    "x_rus, y_rus = rus.fit_resample(data.drop('Class', axis = 1),data['Class'])\n",
    "ros = RandomOverSampler(random_state = 42)\n",
    "x_ros, y_ros = ros.fit_resample(data.drop('Class', axis = 1),data['Class'])"
   ]
  },
  {
   "cell_type": "code",
   "execution_count": 10,
   "metadata": {},
   "outputs": [
    {
     "data": {
      "text/plain": [
       "((18, 30), (18,), (1526, 30), (1526,))"
      ]
     },
     "execution_count": 10,
     "metadata": {},
     "output_type": "execute_result"
    }
   ],
   "source": [
    "x_rus.shape, y_rus.shape, x_ros.shape, y_ros.shape"
   ]
  },
  {
   "attachments": {},
   "cell_type": "markdown",
   "metadata": {},
   "source": [
    "#### Tomek links"
   ]
  },
  {
   "cell_type": "code",
   "execution_count": 11,
   "metadata": {},
   "outputs": [
    {
     "data": {
      "text/plain": [
       "((765, 30), (765,))"
      ]
     },
     "execution_count": 11,
     "metadata": {},
     "output_type": "execute_result"
    }
   ],
   "source": [
    "from imblearn.under_sampling import TomekLinks\n",
    "tl = TomekLinks()\n",
    "x_tl, y_tl = tl.fit_resample(data.drop('Class', axis = 1),data['Class'])\n",
    "x_tl.shape, y_tl.shape"
   ]
  },
  {
   "attachments": {},
   "cell_type": "markdown",
   "metadata": {},
   "source": [
    "#### SMOTE"
   ]
  },
  {
   "cell_type": "code",
   "execution_count": 12,
   "metadata": {},
   "outputs": [
    {
     "data": {
      "text/plain": [
       "((1526, 30), (1526,))"
      ]
     },
     "execution_count": 12,
     "metadata": {},
     "output_type": "execute_result"
    }
   ],
   "source": [
    "from imblearn.over_sampling import SMOTE\n",
    "smote = SMOTE(random_state = 42)\n",
    "x_smote, y_smote = smote.fit_resample(data.drop('Class', axis = 1),data['Class'])\n",
    "x_smote.shape, y_smote.shape"
   ]
  },
  {
   "attachments": {},
   "cell_type": "markdown",
   "metadata": {},
   "source": [
    "#### NearMiss"
   ]
  },
  {
   "cell_type": "code",
   "execution_count": 13,
   "metadata": {},
   "outputs": [
    {
     "data": {
      "text/plain": [
       "((18, 30), (18,))"
      ]
     },
     "execution_count": 13,
     "metadata": {},
     "output_type": "execute_result"
    }
   ],
   "source": [
    "from imblearn.under_sampling import NearMiss\n",
    "nm = NearMiss()\n",
    "x_nm, y_nm = nm.fit_resample(data.drop('Class', axis = 1),data['Class'])\n",
    "x_nm.shape, y_nm.shape"
   ]
  },
  {
   "cell_type": "code",
   "execution_count": 14,
   "metadata": {},
   "outputs": [
    {
     "data": {
      "image/png": "[encoded data removed]",
      "text/plain": [
       "<Figure size 2500x500 with 5 Axes>"
      ]
     },
     "metadata": {},
     "output_type": "display_data"
    }
   ],
   "source": [
    "# Plot the class distribution of the undersampled data using TomekLinks, SMOTE, and NearMiss, RandomUnderSampler, and RandomOverSampler\n",
    "\n",
    "fig, axis = plt.subplots(1, 5, figsize = (25, 5))\n",
    "sns.countplot(x = y_tl, ax = axis[0], palette = 'Blues')\n",
    "sns.countplot(x = y_smote, ax = axis[1], palette = 'Reds')\n",
    "sns.countplot(x = y_nm, ax = axis[2], palette = 'Greens')\n",
    "sns.countplot(x = y_rus, ax = axis[3], palette = 'Blues')\n",
    "sns.countplot(x = y_ros, ax = axis[4], palette = 'Reds')\n",
    "axis[0].set_title('TomekLinks')\n",
    "axis[1].set_title('SMOTE')\n",
    "axis[2].set_title('NearMiss')\n",
    "axis[3].set_title('RandomUnderSampler')\n",
    "axis[4].set_title('RandomOverSampler')\n",
    "axis[0].bar_label(axis[0].containers[0])\n",
    "axis[1].bar_label(axis[1].containers[0])\n",
    "axis[2].bar_label(axis[2].containers[0])\n",
    "axis[3].bar_label(axis[3].containers[0])\n",
    "axis[4].bar_label(axis[4].containers[0])\n",
    "axis[0].set_xticklabels(['Non-Fraud', 'Fraud'])\n",
    "axis[1].set_xticklabels(['Non-Fraud', 'Fraud'])\n",
    "axis[2].set_xticklabels(['Non-Fraud', 'Fraud'])\n",
    "axis[3].set_xticklabels(['Non-Fraud', 'Fraud'])\n",
    "axis[4].set_xticklabels(['Non-Fraud', 'Fraud'])\n",
    "plt.show()"
   ]
  },
  {
   "cell_type": "markdown",
   "metadata": {},
   "source": [
    "### Training "
   ]
  },
  {
   "cell_type": "code",
   "execution_count": 15,
   "metadata": {},
   "outputs": [],
   "source": [
    "# Use 5 different classifiers to train the data\n",
    "# Use the undersampled data using TomekLinks, SMOTE, and NearMiss, RandomUnderSampler, and RandomOverSampler\n",
    "\n",
    "from sklearn.model_selection import train_test_split\n",
    "from sklearn.metrics import accuracy_score, confusion_matrix, classification_report\n",
    "from sklearn.neighbors import KNeighborsClassifier\n",
    "from sklearn.svm import SVC\n",
    "from sklearn.tree import DecisionTreeClassifier\n",
    "from sklearn.ensemble import RandomForestClassifier\n",
    "from sklearn.naive_bayes import GaussianNB\n",
    "\n",
    "classifiers = [\n",
    "    KNeighborsClassifier(3),\n",
    "    SVC(gamma=2, C=1),\n",
    "    DecisionTreeClassifier(max_depth=5),\n",
    "    RandomForestClassifier(max_depth=5, n_estimators=10, max_features=1),\n",
    "    GaussianNB(),\n",
    "]\n",
    "\n",
    "# Define a function to train the data and print the accuracy, confusion matrix, and classification report\n",
    "def train_model(x, y, model):\n",
    "    x_train, x_test, y_train, y_test = train_test_split(x, y, test_size = 0.2, random_state = 42)\n",
    "    # Avoid warning of convergence\n",
    "    model.fit(x_train, y_train)\n",
    "    y_pred = model.predict(x_test)\n",
    "    return y_test, y_pred\n"
   ]
  },
  {
   "cell_type": "code",
   "execution_count": 16,
   "metadata": {},
   "outputs": [],
   "source": [
    "sampled_data_names = ['TomekLinks', 'SMOTE', 'NearMiss', 'RandomUnderSampler', 'RandomOverSampler']\n",
    "sampled_data = [x_tl, x_smote, x_nm, x_rus, x_ros]\n",
    "sampled_data_labels = [y_tl, y_smote, y_nm, y_rus, y_ros]\n",
    "model_names = ['KNN', 'SVM', 'Decision Tree', 'Random Forest', 'Naive Bayes']\n",
    "\n",
    "predictions = pd.DataFrame()\n",
    "predictions['Model'] = model_names\n",
    "\n",
    "\n",
    "for i in range(len(sampled_data)):\n",
    "    for j in range(len(classifiers)):\n",
    "        y_test, y_pred = train_model(sampled_data[i], sampled_data_labels[i], classifiers[j])\n",
    "        predictions.loc[j, sampled_data_names[i]] = accuracy_score(y_test, y_pred)"
   ]
  },
  {
   "cell_type": "code",
   "execution_count": 17,
   "metadata": {},
   "outputs": [
    {
     "data": {
      "text/html": [
       "<div>\n",
       "<style scoped>\n",
       "    .dataframe tbody tr th:only-of-type {\n",
       "        vertical-align: middle;\n",
       "    }\n",
       "\n",
       "    .dataframe tbody tr th {\n",
       "        vertical-align: top;\n",
       "    }\n",
       "\n",
       "    .dataframe thead th {\n",
       "        text-align: right;\n",
       "    }\n",
       "</style>\n",
       "<table border=\"1\" class=\"dataframe\">\n",
       "  <thead>\n",
       "    <tr style=\"text-align: right;\">\n",
       "      <th></th>\n",
       "      <th>Model</th>\n",
       "      <th>TomekLinks</th>\n",
       "      <th>SMOTE</th>\n",
       "      <th>NearMiss</th>\n",
       "      <th>RandomUnderSampler</th>\n",
       "      <th>RandomOverSampler</th>\n",
       "    </tr>\n",
       "  </thead>\n",
       "  <tbody>\n",
       "    <tr>\n",
       "      <th>0</th>\n",
       "      <td>KNN</td>\n",
       "      <td>0.986928</td>\n",
       "      <td>0.862745</td>\n",
       "      <td>0.75</td>\n",
       "      <td>0.75</td>\n",
       "      <td>0.990196</td>\n",
       "    </tr>\n",
       "    <tr>\n",
       "      <th>1</th>\n",
       "      <td>SVM</td>\n",
       "      <td>0.986928</td>\n",
       "      <td>0.627451</td>\n",
       "      <td>0.00</td>\n",
       "      <td>0.00</td>\n",
       "      <td>1.000000</td>\n",
       "    </tr>\n",
       "    <tr>\n",
       "      <th>2</th>\n",
       "      <td>Decision Tree</td>\n",
       "      <td>0.980392</td>\n",
       "      <td>0.970588</td>\n",
       "      <td>0.00</td>\n",
       "      <td>0.50</td>\n",
       "      <td>0.977124</td>\n",
       "    </tr>\n",
       "    <tr>\n",
       "      <th>3</th>\n",
       "      <td>Random Forest</td>\n",
       "      <td>0.986928</td>\n",
       "      <td>0.957516</td>\n",
       "      <td>0.00</td>\n",
       "      <td>0.25</td>\n",
       "      <td>0.980392</td>\n",
       "    </tr>\n",
       "    <tr>\n",
       "      <th>4</th>\n",
       "      <td>Naive Bayes</td>\n",
       "      <td>0.954248</td>\n",
       "      <td>0.839869</td>\n",
       "      <td>0.75</td>\n",
       "      <td>0.00</td>\n",
       "      <td>0.758170</td>\n",
       "    </tr>\n",
       "  </tbody>\n",
       "</table>\n",
       "</div>"
      ],
      "text/plain": [
       "           Model  TomekLinks     SMOTE  NearMiss  RandomUnderSampler  \\\n",
       "0            KNN    0.986928  0.862745      0.75                0.75   \n",
       "1            SVM    0.986928  0.627451      0.00                0.00   \n",
       "2  Decision Tree    0.980392  0.970588      0.00                0.50   \n",
       "3  Random Forest    0.986928  0.957516      0.00                0.25   \n",
       "4    Naive Bayes    0.954248  0.839869      0.75                0.00   \n",
       "\n",
       "   RandomOverSampler  \n",
       "0           0.990196  \n",
       "1           1.000000  \n",
       "2           0.977124  \n",
       "3           0.980392  \n",
       "4           0.758170  "
      ]
     },
     "execution_count": 17,
     "metadata": {},
     "output_type": "execute_result"
    }
   ],
   "source": [
    "predictions"
   ]
  },
  {
   "cell_type": "code",
   "execution_count": 42,
   "metadata": {},
   "outputs": [
    {
     "data": {
      "image/png": "[encoded data removed]",
      "text/plain": [
       "<Figure size 2500x500 with 5 Axes>"
      ]
     },
     "metadata": {},
     "output_type": "display_data"
    }
   ],
   "source": [
    "# Plot the accuracy of the 5 different classifiers for the 5 different undersampled data\n",
    "fig, axis = plt.subplots(1, 5, figsize = (25, 5))\n",
    "fig.suptitle('Accuracy of the 5 different classifiers for the 5 different undersampled data')\n",
    "for i in range(len(sampled_data)):\n",
    "    axis[i].set_ylim(0, 1.2)\n",
    "    sns.barplot(x = predictions['Model'], y = predictions[sampled_data_names[i]], ax = axis[i], order = predictions.sort_values(by = sampled_data_names[i])['Model'])\n",
    "    axis[i].set_title(sampled_data_names[i])\n",
    "    axis[i].set_xticklabels(axis[i].get_xticklabels(), rotation = 45)\n",
    "\n",
    "plt.show()"
   ]
  },
  {
   "cell_type": "code",
   "execution_count": 69,
   "metadata": {},
   "outputs": [
    {
     "data": {
      "text/plain": [
       "Model                      KNN\n",
       "TomekLinks            0.986928\n",
       "SMOTE                 0.862745\n",
       "NearMiss                  0.75\n",
       "RandomUnderSampler        0.75\n",
       "RandomOverSampler     0.990196\n",
       "Name: 0, dtype: object"
      ]
     },
     "execution_count": 69,
     "metadata": {},
     "output_type": "execute_result"
    }
   ],
   "source": [
    "# Get the best model from predictions using average accuracy\n",
    "best_model = predictions.mean(axis = 1, numeric_only= True).idxmax()\n",
    "predictions.loc[best_model]"
   ]
  }
 ],
 "metadata": {
  "kernelspec": {
   "display_name": "nlp",
   "language": "python",
   "name": "python3"
  },
  "language_info": {
   "codemirror_mode": {
    "name": "ipython",
    "version": 3
   },
   "file_extension": ".py",
   "mimetype": "text/x-python",
   "name": "python",
   "nbconvert_exporter": "python",
   "pygments_lexer": "ipython3",
   "version": "3.9.16"
  },
  "orig_nbformat": 4,
  "vscode": {
   "interpreter": {
    "hash": "96831143ca3b88252ecc6d1421efdb73a5393786cbcd1660c7f7eac9f0339b3b"
   }
  }
 },
 "nbformat": 4,
 "nbformat_minor": 2
}
